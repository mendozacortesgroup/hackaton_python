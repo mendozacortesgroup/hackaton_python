{
 "cells": [
  {
   "cell_type": "markdown",
   "metadata": {},
   "source": [
    "# FSU Hackathon.\n",
    "## Precision.\n",
    "What will happen when we run the following code?"
   ]
  },
  {
   "cell_type": "code",
   "execution_count": null,
   "metadata": {},
   "outputs": [],
   "source": [
    ".1+.1+.1 ==.3\n"
   ]
  },
  {
   "cell_type": "markdown",
   "metadata": {},
   "source": [
    "The decimal representation of the number"
   ]
  },
  {
   "cell_type": "code",
   "execution_count": null,
   "metadata": {
    "collapsed": true
   },
   "outputs": [],
   "source": [
    "0.125"
   ]
  },
  {
   "cell_type": "markdown",
   "metadata": {},
   "source": [
    "is 1/10 + 2/100 + 5/1000.\n",
    "\n",
    "What is the decimal representation of 1/3?"
   ]
  },
  {
   "cell_type": "markdown",
   "metadata": {},
   "source": [
    "Floating-point numbers are represented in computer hardware as base 2 (binary) fractions. "
   ]
  },
  {
   "cell_type": "markdown",
   "metadata": {},
   "source": [
    "The number (written in binary)"
   ]
  },
  {
   "cell_type": "code",
   "execution_count": null,
   "metadata": {
    "collapsed": true
   },
   "outputs": [],
   "source": [
    "0.001"
   ]
  },
  {
   "cell_type": "markdown",
   "metadata": {},
   "source": [
    "is equal to  0/2 + 0/4 + 1/8. \n",
    "\n",
    "Unfortunately, most decimal fractions cannot be represented exactly as binary fractions. A consequence is that, in general, the decimal floating-point numbers you enter are only approximated by the binary floating-point numbers actually stored in the machine."
   ]
  },
  {
   "cell_type": "markdown",
   "metadata": {},
   "source": [
    " In base 2, 1/10 is the infinitely repeating fraction"
   ]
  },
  {
   "cell_type": "code",
   "execution_count": null,
   "metadata": {
    "collapsed": true
   },
   "outputs": [],
   "source": [
    "0.0001100110011001100110011001100110011001100110011..."
   ]
  },
  {
   "cell_type": "markdown",
   "metadata": {},
   "source": [
    "Python uses the approximation to 1/10: "
   ]
  },
  {
   "cell_type": "code",
   "execution_count": null,
   "metadata": {
    "collapsed": true
   },
   "outputs": [],
   "source": [
    "3602879701896397 / 2 ** 55\n"
   ]
  },
  {
   "cell_type": "markdown",
   "metadata": {},
   "source": [
    " Python only prints a decimal approximation to the true decimal value of the binary approximation stored by the machine.  If Python were to print the true decimal value of the binary approximation stored for 0.1, it would have to display"
   ]
  },
  {
   "cell_type": "code",
   "execution_count": null,
   "metadata": {
    "collapsed": true
   },
   "outputs": [],
   "source": [
    ">>> 0.1\n",
    "0.1000000000000000055511151231257827021181583404541015625"
   ]
  },
  {
   "cell_type": "markdown",
   "metadata": {},
   "source": [
    "Note that this is in the very nature of binary floating-point: this is not a bug in Python, and it is not a bug in your code either. You’ll see the same kind of thing in all languages that support your hardware’s floating-point arithmetic (although some languages may not display the difference by default, or in all output modes)."
   ]
  },
  {
   "cell_type": "markdown",
   "metadata": {},
   "source": [
    "Relevant: https://www.smbc-comics.com/comic/2013-06-05"
   ]
  },
  {
   "cell_type": "markdown",
   "metadata": {},
   "source": [
    "## There are no easy answers."
   ]
  },
  {
   "cell_type": "code",
   "execution_count": null,
   "metadata": {
    "collapsed": true
   },
   "outputs": [],
   "source": [
    "round(.1, 1) + round(.1, 1) + round(.1, 1) == round(.3, 1)"
   ]
  },
  {
   "cell_type": "markdown",
   "metadata": {},
   "source": [
    "Since the 0.1 cannot get any closer to the exact value of 1/10 and 0.3 cannot get any closer to the exact value of 3/10, then pre-rounding with round() function cannot help.  the round() function can be useful for post-rounding so that results with inexact values become comparable to one another:"
   ]
  },
  {
   "cell_type": "code",
   "execution_count": null,
   "metadata": {
    "collapsed": true
   },
   "outputs": [],
   "source": [
    "round(.1 + .1 + .1, 10) == round(.3, 10)"
   ]
  },
  {
   "cell_type": "raw",
   "metadata": {},
   "source": [
    " round(number[, ndigits])\n",
    "\n",
    "    Return number rounded to ndigits precision after the decimal point. If ndigits is omitted or is None, it returns the nearest integer to its input.\n",
    "    \n",
    "\n",
    "Note\n",
    "\n",
    "The behavior of round() for floats can be surprising: for example, round(2.675, 2) gives 2.67 instead of the expected 2.68. This is not a bug: it’s a result of the fact that most decimal fractions can’t be represented exactly as a float. See Floating Point Arithmetic: Issues and Limitations for more information. "
   ]
  },
  {
   "cell_type": "markdown",
   "metadata": {},
   "source": [
    "While pathological cases do exist, for most casual use of floating-point arithmetic you’ll see the result you expect in the end if you simply round the display of your final results to the number of decimal digits you expect. str() usually suffices, and for finer control see the str.format() method’s format specifiers in Format String Syntax.\n",
    "\n",
    "For use cases which require exact decimal representation, try using the decimal module https://docs.python.org/3/library/decimal.html which implements decimal arithmetic suitable for accounting applications and high-precision applications.\n",
    "\n",
    "Another form of exact arithmetic is supported by the fractions module https://docs.python.org/3.1/library/fractions.html\n",
    "which implements arithmetic based on rational numbers (so the numbers like 1/3 can be represented exactly).\n",
    "\n",
    "If you are a heavy user of floating point operations you should take a look at the Numerical Python package and many other packages for mathematical and statistical operations supplied by the SciPy project. See <https://scipy.org>."
   ]
  },
  {
   "cell_type": "markdown",
   "metadata": {},
   "source": [
    "Source: https://docs.python.org/3/tutorial/floatingpoint.html"
   ]
  },
  {
   "cell_type": "markdown",
   "metadata": {},
   "source": [
    "## Conjecture 49"
   ]
  },
  {
   "cell_type": "markdown",
   "metadata": {},
   "source": [
    "Python fully supports mixed arithmetic: when a binary arithmetic operator has operands of different numeric types, the operand with the ``narrower'' type is widened to that of the other, where plain integer is narrower than long integer is narrower than floating point is narrower than complex. "
   ]
  },
  {
   "cell_type": "markdown",
   "metadata": {},
   "source": [
    "Is there $k$ so that ${49*2^k}$ has only even digits? "
   ]
  },
  {
   "cell_type": "code",
   "execution_count": null,
   "metadata": {},
   "outputs": [],
   "source": [
    "n = 49\n",
    "for number in range(20):\n",
    "    print(\"There is at least one odd digit in 49*2^{}={}\".format(number,n))\n",
    "    n = 2*n"
   ]
  },
  {
   "cell_type": "markdown",
   "metadata": {},
   "source": [
    "\n",
    "Working with $2^k$ is complicated for the big ammount of digits. Let's focus only on the last $s$ digits of the numbers.\n",
    "For any $s$, the following code calculates the last $s$ digits of the sequence $\\{49*2^n\\}$ and it prints the numbers whose  last $i$ digits  are only even numbers, for $i\\in\\{1,\\cdot,s\\}$."
   ]
  },
  {
   "cell_type": "code",
   "execution_count": null,
   "metadata": {},
   "outputs": [],
   "source": [
    "import os\n",
    "import time\n",
    "import copy\n",
    "\n",
    "def upTo (numberOfDigits = 0):\n",
    "    value = 49\n",
    "    times = 0\n",
    "    ndigits = 1\n",
    "    while True:\n",
    "        times = times + 1\n",
    "        digits = 0\n",
    "        value = 2*value\n",
    "        value = value % (10**(numberOfDigits+1))  #we add one to illustrate that the next is odd.\n",
    "        #print(value)\n",
    "        residue = copy.copy(value% (10**(numberOfDigits)))#We only care about the last \"limit\" digits,\n",
    "        while (residue != 0) & (residue % 2 != 1): #Here we analyse if the digits are even.\n",
    "            residue = residue // 10\n",
    "            digits = digits + 1\n",
    "            if digits == ndigits:#We use dynamic programming ideas.\n",
    "                print(\" {0:>4} (even digits): 49x2^{1:>15} mod 10^{3} ={2:>50}\".format(ndigits,times,value, numberOfDigits))\n",
    "                ndigits = ndigits+1  \n",
    "        if residue == 0:\n",
    "            print(\"The last {0} digits of 49x2^{1} mod 10^{0}={2} are even\".format(numberOfDigits,times,value))\n",
    "            return times\n",
    "\n",
    "upTo(23)"
   ]
  },
  {
   "cell_type": "raw",
   "metadata": {},
   "source": [
    "                                                                                                         \n",
    "    1 (even digits): 49x2^              1 mod 10^33 =                                                98\n",
    "    2 (even digits): 49x2^              4 mod 10^33 =                                               784\n",
    "    3 (even digits): 49x2^              9 mod 10^33 =                                             25088\n",
    "    4 (even digits): 49x2^             20 mod 10^33 =                                          51380224\n",
    "    5 (even digits): 49x2^             20 mod 10^33 =                                          51380224\n",
    "    6 (even digits): 49x2^             49 mod 10^33 =                                 27584547717644288\n",
    "    7 (even digits): 49x2^             56 mod 10^33 =                               3530822107858468864\n",
    "    8 (even digits): 49x2^             80 mod 10^33 =                        59237365161116829560602624\n",
    "    9 (even digits): 49x2^            429 mod 10^33 =                9663386084668554387509809866866688\n",
    "   10 (even digits): 49x2^           1541 mod 10^33 =                2332661133323391783464212048642048\n",
    "   11 (even digits): 49x2^           1956 mod 10^33 =                1791676642205817175299688826404864\n",
    "   12 (even digits): 49x2^           1956 mod 10^33 =                1791676642205817175299688826404864\n",
    "   13 (even digits): 49x2^           2253 mod 10^33 =                1599200494712115706564644446404608\n",
    "   14 (even digits): 49x2^           2253 mod 10^33 =                1599200494712115706564644446404608\n",
    "   15 (even digits): 49x2^          55536 mod 10^33 =                5947094374490236668460800424280064\n",
    "   16 (even digits): 49x2^          55536 mod 10^33 =                5947094374490236668460800424280064\n",
    "   17 (even digits): 49x2^          55536 mod 10^33 =                5947094374490236668460800424280064\n",
    "   18 (even digits): 49x2^          55536 mod 10^33 =                5947094374490236668460800424280064\n",
    "   19 (even digits): 49x2^          55536 mod 10^33 =                5947094374490236668460800424280064\n",
    "   20 (even digits): 49x2^         314041 mod 10^33 =                1286037299640202046428026448642048\n",
    "   21 (even digits): 49x2^         314041 mod 10^33 =                1286037299640202046428026448642048\n",
    "   22 (even digits): 49x2^         314041 mod 10^33 =                1286037299640202046428026448642048\n",
    "   23 (even digits): 49x2^         314041 mod 10^33 =                1286037299640202046428026448642048\n",
    "   24 (even digits): 49x2^         314041 mod 10^33 =                1286037299640202046428026448642048\n",
    "   25 (even digits): 49x2^        5467620 mod 10^33 =                9143757524224060828888086268084224\n",
    "   26 (even digits): 49x2^        5467620 mod 10^33 =                9143757524224060828888086268084224\n",
    "   27 (even digits): 49x2^       84998841 mod 10^33 =                9191024242666060820884660628226048\n",
    "   28 (even digits): 49x2^       84998841 mod 10^33 =                9191024242666060820884660628226048\n",
    "   29 (even digits): 49x2^       84998841 mod 10^33 =                9191024242666060820884660628226048\n",
    "   30 (even digits): 49x2^       84998841 mod 10^33 =                9191024242666060820884660628226048\n",
    "   31 (even digits): 49x2^     3958111553 mod 10^33 =                6700846248426460822648248082628608\n",
    "   32 (even digits): 49x2^     3958111553 mod 10^33 =                6700846248426460822648248082628608\n",
    "   33 (even digits): 49x2^    11735320821 mod 10^33 =                3646068424868220468006048600424448\n",
    "The last 33 digits of 49x2^11735320821 mod 10^33=3646068424868220468006048600424448 are even"
   ]
  },
  {
   "cell_type": "markdown",
   "metadata": {},
   "source": [
    "So far I have found that\n",
    "\n",
    "     49x2^11735320821 mod 10^34=3646068424868220468006048600424448\n",
    "\n",
    "So the last 33 digits of 49x2^11735320821 are even."
   ]
  },
  {
   "cell_type": "markdown",
   "metadata": {},
   "source": [
    "Homework: Do the last two exercises of every section until you get stuck. Then do the first 4 exercises of that section.\n",
    "    https://runestone.academy/runestone/static/FSUhackathon/index.html"
   ]
  },
  {
   "cell_type": "code",
   "execution_count": null,
   "metadata": {
    "collapsed": true
   },
   "outputs": [],
   "source": []
  }
 ],
 "metadata": {
  "kernelspec": {
   "display_name": "Python 3",
   "language": "python",
   "name": "python3"
  },
  "language_info": {
   "codemirror_mode": {
    "name": "ipython",
    "version": 3
   },
   "file_extension": ".py",
   "mimetype": "text/x-python",
   "name": "python",
   "nbconvert_exporter": "python",
   "pygments_lexer": "ipython3",
   "version": "3.6.3"
  }
 },
 "nbformat": 4,
 "nbformat_minor": 2
}

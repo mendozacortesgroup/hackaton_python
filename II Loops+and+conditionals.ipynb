{
 "cells": [
  {
   "cell_type": "markdown",
   "metadata": {},
   "source": [
    "# Loops and conditionals"
   ]
  },
  {
   "cell_type": "markdown",
   "metadata": {},
   "source": [
    "Blocks are marked by identation (not by braces) and you shouldn't use tab, instead leave 4 spaces."
   ]
  },
  {
   "cell_type": "code",
   "execution_count": null,
   "metadata": {
    "collapsed": true
   },
   "outputs": [],
   "source": [
    "x = 10\n",
    "y = 10\n",
    "\n",
    "if x < y:\n",
    "    print(\"x is less than y\")  #notice the identation\n",
    "else:\n",
    "    if x > y:\n",
    "        print(\"x is greater than y\") #notice the identation\n",
    "    else:\n",
    "        print(\"x and y must be equal\")"
   ]
  },
  {
   "cell_type": "markdown",
   "metadata": {},
   "source": [
    "Python provides an alternative way to write nested selection such as the one shown in the previous section. This is sometimes referred to as a chained conditional."
   ]
  },
  {
   "cell_type": "code",
   "execution_count": null,
   "metadata": {
    "collapsed": true
   },
   "outputs": [],
   "source": [
    "if x < y:\n",
    "    print(\"x is less than y\")\n",
    "elif x > y:\n",
    "    print(\"x is greater than y\")\n",
    "else:\n",
    "    print(\"x and y must be equal\")"
   ]
  },
  {
   "cell_type": "markdown",
   "metadata": {},
   "source": [
    "Exercise: What will the following code print if x = 3, y = 5, and z = 2?"
   ]
  },
  {
   "cell_type": "code",
   "execution_count": null,
   "metadata": {
    "collapsed": true
   },
   "outputs": [],
   "source": [
    "x, y, z = 3, 5, 2\n",
    "\n",
    "if x < y and x < z:\n",
    "    print(\"a\")\n",
    "elif y < x and y < z:\n",
    "    print(\"b\")\n",
    "else:\n",
    "    print(\"c\")"
   ]
  },
  {
   "cell_type": "markdown",
   "metadata": {},
   "source": [
    "Loops are over an iterable, for example a list."
   ]
  },
  {
   "cell_type": "code",
   "execution_count": null,
   "metadata": {
    "collapsed": true
   },
   "outputs": [],
   "source": [
    "for f in [\"Joe\", \"Amy\", \"Brad\", \"Angelina\", \"Zuki\", \"Thandi\", \"Paris\"]:\n",
    "    print(\"Hi\", f, \"Please come to my party on Saturday\")\n"
   ]
  },
  {
   "cell_type": "markdown",
   "metadata": {},
   "source": [
    "Here is an interesting sentence http://www.businessinsider.com/weird-sentences-2014-1?r=US&IR=T&IR=T"
   ]
  },
  {
   "cell_type": "code",
   "execution_count": null,
   "metadata": {
    "collapsed": true
   },
   "outputs": [],
   "source": [
    "sentence = \"Can\"\n",
    "for number in [0,1,2,3,4,5,6,7,8]:\n",
    "    sentence = sentence + \" can\"\n",
    "print(sentence)\n",
    "\n",
    "# Can-can can-can can can can can can-can.\n",
    "#We have the same word with three different meanings: can-can, the dance; can, a verb meaning \"able\"; and can, a second verb meaning to put in the trash, or euphemistically to outperform.\n",
    "#Can-can, the dance, that other can-can, the dance, are able to outperform are also able to outperform other examples of can-can, the dance.\n"
   ]
  },
  {
   "cell_type": "markdown",
   "metadata": {},
   "source": [
    "Even though you can use any nine items, or any nine integers for that matter, the conventional thing to do is to use a list of integers starting with 0. In fact, these lists are so popular that Python gives us special built-in range objects that can deliver a sequence of values to the for loop. When called with one parameter, the sequence provided by range always starts with 0. If you ask for range(4), then you will get 4 values starting with 0. In other words, 0, 1, 2, and finally 3. Notice that 4 is not included since we started with 0. Likewise, range(9) provides 9 values, 0 through 8.\n",
    "\n",
    "for i in range(4):\n",
    "\n",
    " Executes the body with i = 0, then 1, then 2, then 3\n",
    "for x in range(10):\n",
    "\n",
    " sets x to each of ... [0, 1, 2, 3, 4, 5, 6, 7, 8, 9]"
   ]
  },
  {
   "cell_type": "code",
   "execution_count": null,
   "metadata": {
    "collapsed": true
   },
   "outputs": [],
   "source": [
    "sentence = \"Can\"\n",
    "for number in range(8):\n",
    "    sentence = sentence + \" can\"\n",
    "print(sentence)"
   ]
  },
  {
   "cell_type": "markdown",
   "metadata": {},
   "source": [
    "# while statement:\n",
    "\n",
    "1.- Evaluate the condition, yielding False or True.\n",
    "\n",
    "2.- If the condition is False, exit the while statement and continue execution at the next statement.\n",
    "    If the condition is True, execute each of the statements in the body and then go back to step 1.\n",
    "\n",
    "The body consists of all of the statements below the header with the same indentation."
   ]
  },
  {
   "cell_type": "code",
   "execution_count": null,
   "metadata": {
    "collapsed": true
   },
   "outputs": [],
   "source": [
    "aBound = 10\n",
    "theSum  = 0\n",
    "aNumber = 1\n",
    "while aNumber <= aBound:\n",
    "    theSum = theSum + aNumber\n",
    "    aNumber = aNumber + 1\n",
    "print(theSum)"
   ]
  },
  {
   "cell_type": "markdown",
   "metadata": {},
   "source": [
    "You can almost read the while statement as if it were in natural language. It means, while aNumber is less than or equal to aBound, continue executing the body of the loop. Within the body, each time, update theSum using the accumulator pattern and increment aNumber. After the body of the loop, we go back up to the condition of the while and reevaluate it. When aNumber becomes greater than aBound, the condition fails and flow of control continues to the return statement.\n",
    "\n",
    "Though Python’s while is very close to the English “while”, there is an important difference: In English “while X, do Y”, we usually assume that immediately after X becomes false, we stop with Y. In Python there is not an immediate stop: After the initial test, any following tests come only after the execution of the whole body, even if the condition becomes false in the middle of the loop body.\n"
   ]
  },
  {
   "cell_type": "markdown",
   "metadata": {},
   "source": [
    "# Newton’s method.\n",
    "One way of computing square roots is Newton’s method. Suppose that you want to know the square root of n. If you start with almost any approximation, you can compute a better approximation with the following formula:\n",
    "\n",
    "better = 1/2 * (approx + n/approx)"
   ]
  },
  {
   "cell_type": "code",
   "execution_count": 5,
   "metadata": {
    "scrolled": true
   },
   "outputs": [
    {
     "name": "stdout",
     "output_type": "stream",
     "text": [
      "10.812053925455988\n",
      "10.0\n",
      "2.0\n",
      "1.000000000000001\n"
     ]
    }
   ],
   "source": [
    "def newtonSqrt(n, howmany):\n",
    "    approx = 0.5 * n\n",
    "    for i in range(howmany):\n",
    "        betterapprox = 0.5 * (approx + n/approx)\n",
    "        approx = betterapprox\n",
    "    return betterapprox\n",
    "\n",
    "print(newtonSqrt(100, 3))\n",
    "print(newtonSqrt(100, 7))\n",
    "print(newtonSqrt(4, 5))\n",
    "print(newtonSqrt(1, 5))"
   ]
  },
  {
   "cell_type": "markdown",
   "metadata": {},
   "source": [
    "The body of the loop should change the value of one or more variables so that eventually the condition becomes False and the loop terminates. Otherwise the loop will repeat forever. This is called an infinite loop. An endless source of amusement for computer scientists is the observation that the directions written on the back of the shampoo bottle (lather, rinse, repeat) create an infinite loop\n",
    "\n",
    "The following code contains an infinite loop. Which is the best explanation for why the loop does not terminate?"
   ]
  },
  {
   "cell_type": "code",
   "execution_count": null,
   "metadata": {
    "collapsed": true
   },
   "outputs": [],
   "source": [
    "n = 10\n",
    "answer = 1\n",
    "while n > 0:\n",
    "    answer = answer + n\n",
    "    n = n + 1\n",
    "print(answer)"
   ]
  },
  {
   "cell_type": "markdown",
   "metadata": {},
   "source": [
    "# Homework:\n",
    "Do the last two exercises of every section until you get stuck. Then do the first 4 exercises of that section.\n",
    "    https://runestone.academy/runestone/static/FSUhackathon/index.html"
   ]
  },
  {
   "cell_type": "markdown",
   "metadata": {},
   "source": [
    "Answer to intial question: In Python, is it faster to multiply a number x by 2 or to shift the number to the left? https://stackoverflow.com/questions/37053379/times-two-faster-than-bit-shift"
   ]
  }
 ],
 "metadata": {
  "kernelspec": {
   "display_name": "Python 3",
   "language": "python",
   "name": "python3"
  },
  "language_info": {
   "codemirror_mode": {
    "name": "ipython",
    "version": 3
   },
   "file_extension": ".py",
   "mimetype": "text/x-python",
   "name": "python",
   "nbconvert_exporter": "python",
   "pygments_lexer": "ipython3",
   "version": "3.6.3"
  }
 },
 "nbformat": 4,
 "nbformat_minor": 2
}

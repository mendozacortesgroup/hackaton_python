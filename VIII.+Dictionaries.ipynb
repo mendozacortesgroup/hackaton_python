{
 "cells": [
  {
   "cell_type": "markdown",
   "metadata": {},
   "source": [
    "# Dictionaries."
   ]
  },
  {
   "cell_type": "markdown",
   "metadata": {},
   "source": [
    "A program that asks the user for a sentence in English and then translates that sentence to Pirate."
   ]
  },
  {
   "cell_type": "code",
   "execution_count": 2,
   "metadata": {},
   "outputs": [
    {
     "name": "stdout",
     "output_type": "stream",
     "text": [
      "dont use commas: the madam and the boy are looking for a lawyer\n",
      " th’ proud beauty and th’ matey be looking for a foul blaggart\n"
     ]
    }
   ],
   "source": [
    "def translator(strings):\n",
    "    sentence = strings.split()\n",
    "    toPrint=[]\n",
    "    for word in sentence:\n",
    "        if word in pyrate:\n",
    "            toPrint = toPrint+[pyrate[word]]\n",
    "        else:\n",
    "            toPrint = toPrint+[word]\n",
    "    print( \" {}\".format(\" \".join(toPrint)))    \n",
    "pyrate={\"sir\":\"matey\", \"hotel\":\"fleabag inn\",\n",
    "       \"student\":\"swabbie\",\"boy\":\"matey\",\n",
    "       \"madam\":\"proud beauty\",\"professor\":\"foul blaggart\",\n",
    "       \"restaurant\":\"galley\",\"your\":\"yer\",\n",
    "       \"excuse\":\"arr\",\"students\":\"swabbies\",\n",
    "       \"are\":\"be\",\"lawyer\":\"foul blaggart\",\n",
    "       \"the\":\"th’\",\"restroom\":\"head\",\n",
    "       \"my\":\"me\",\"hello\":\"avast\",\n",
    "       \"is\":\"be\",\"man\":\"matey\",}\n",
    "\n",
    "\n",
    "translator(input(\"dont use commas: \"))"
   ]
  },
  {
   "cell_type": "markdown",
   "metadata": {},
   "source": [
    "We learned to work with strings with their indexes, then we use more general iterables called list where the values are not necessary letters. Now we will learn a new structure where the index are not necessary numbers.  \n",
    "\n",
    "They map a key, which can be any immutable type, to a value, which can be any Python data object.\n",
    "\n",
    "One way to create a dictionary is to start with the empty dictionary and add key-value pairs. The empty dictionary is denoted {}"
   ]
  },
  {
   "cell_type": "code",
   "execution_count": null,
   "metadata": {
    "collapsed": true
   },
   "outputs": [],
   "source": [
    "eng2sp = {'three': 'tres', 'one': 'uno', 'two': 'dos'}\n",
    "print(eng2sp)\n",
    "print(eng2sp['one'])"
   ]
  },
  {
   "cell_type": "markdown",
   "metadata": {},
   "source": [
    "### Operations"
   ]
  },
  {
   "cell_type": "code",
   "execution_count": null,
   "metadata": {
    "collapsed": true
   },
   "outputs": [],
   "source": [
    "del eng2sp['two']"
   ]
  },
  {
   "cell_type": "markdown",
   "metadata": {},
   "source": [
    "Dictionaries are also mutable. As we’ve seen before with lists, this means that the dictionary can be modified by referencing an association on the left hand side of the assignment statement."
   ]
  },
  {
   "cell_type": "code",
   "execution_count": null,
   "metadata": {
    "collapsed": true
   },
   "outputs": [],
   "source": [
    "eng2sp['one'] = 0\n",
    "eng2sp['one'] = eng2sp['one'] + 20\n"
   ]
  },
  {
   "cell_type": "markdown",
   "metadata": {},
   "source": [
    "### Methods"
   ]
  },
  {
   "cell_type": "markdown",
   "metadata": {},
   "source": [
    "https://runestone.academy/runestone/static/FSUhackathon/Dictionaries/Dictionarymethods.html\n",
    "\n",
    "Method\tParameters\tDescription\n",
    "\n",
    "keys\tnone\t\n",
    "Returns a view of the keys in the dictionary\n",
    "\n",
    "values\tnone\t\n",
    "Returns a view of the values in the dictionary\n",
    "\n",
    "items\tnone\t\n",
    "Returns a view of the key-value pairs in the dictionary\n",
    "\n",
    "get\tkey\t\n",
    "Returns the value associated with key; None otherwise\n",
    "\n",
    "get\tkey,alt\t\n",
    "Returns the value associated with key; alt otherwise"
   ]
  },
  {
   "cell_type": "code",
   "execution_count": null,
   "metadata": {
    "collapsed": true
   },
   "outputs": [],
   "source": [
    "inventory = {'apples': 430, 'bananas': 312, 'oranges': 525, 'pears': 217}\n",
    "\n",
    "print(list(inventory.values()))\n",
    "print(list(inventory.items()))\n",
    "\n",
    "for (k,v) in inventory.items():\n",
    "    print(\"Got\", k, \"that maps to\", v)\n",
    "\n",
    "for k in inventory:\n",
    "    print(\"Got\", k, \"that maps to\", inventory[k])"
   ]
  },
  {
   "cell_type": "markdown",
   "metadata": {},
   "source": [
    "This operator can be very useful since looking up a non-existent key in a dictionary causes a runtime error.\n",
    "\n",
    "The get method allows us to access the value associated with a key, similar to the [ ] operator. The important difference is that get will not cause a runtime error if the key is not present. It will instead return None. There exists a variation of get that allows a second parameter that serves as an alternative return value in the case where the key is not present. This can be seen in the final example below. In this case, since “cherries” is not a key, return 0 (instead of None)."
   ]
  },
  {
   "cell_type": "code",
   "execution_count": null,
   "metadata": {
    "collapsed": true
   },
   "outputs": [],
   "source": [
    "inventory = {'apples': 430, 'bananas': 312, 'oranges': 525, 'pears': 217}\n",
    "\n",
    "print(inventory.get(\"apples\"))\n",
    "print(inventory.get(\"cherries\"))\n",
    "\n",
    "print(inventory.get(\"cherries\", 0))\n"
   ]
  },
  {
   "cell_type": "markdown",
   "metadata": {},
   "source": [
    "Because dictionaries are mutable, you need to be aware of aliasing (as we saw with lists). Whenever two variables refer to the same dictionary object, changes to one affect the other. For example, opposites is a dictionary that contains pairs of opposites."
   ]
  },
  {
   "cell_type": "code",
   "execution_count": null,
   "metadata": {
    "collapsed": true
   },
   "outputs": [],
   "source": [
    "opposites = {'up': 'down', 'right': 'wrong', 'true': 'false'}\n",
    "alias = opposites\n",
    "\n",
    "print(alias is opposites)\n",
    "\n",
    "alias['right'] = 'left'\n",
    "print(opposites['right'])"
   ]
  },
  {
   "cell_type": "markdown",
   "metadata": {},
   "source": [
    "If you want to modify a dictionary and keep a copy of the original, use the dictionary copy method. Since acopy is a copy of the dictionary, changes to it will not effect the original."
   ]
  },
  {
   "cell_type": "code",
   "execution_count": null,
   "metadata": {
    "collapsed": true
   },
   "outputs": [],
   "source": [
    "acopy = opposites.copy()\n",
    "acopy['right'] = 'left'    # does not change opposites"
   ]
  },
  {
   "cell_type": "markdown",
   "metadata": {},
   "source": [
    "Dictionary\n",
    "A collection of key-value pairs that maps from keys to values. The keys can be any immutable type, and the values can be any type.\n",
    "\n",
    "key\n",
    "A data item that is mapped to a value in a dictionary. Keys are used to look up values in a dictionary.\n",
    "\n",
    "key-value pair\n",
    "One of the pairs of items in a dictionary. Values are looked up in a dictionary by key.\n",
    "\n",
    "mapping type\n",
    "A mapping type is a data type comprised of a collection of keys and associated values. Python’s only built-in mapping type is the dictionary. Dictionaries implement the associative array abstract data type."
   ]
  },
  {
   "cell_type": "code",
   "execution_count": null,
   "metadata": {
    "collapsed": true
   },
   "outputs": [],
   "source": []
  }
 ],
 "metadata": {
  "kernelspec": {
   "display_name": "Python 3",
   "language": "python",
   "name": "python3"
  },
  "language_info": {
   "codemirror_mode": {
    "name": "ipython",
    "version": 3
   },
   "file_extension": ".py",
   "mimetype": "text/x-python",
   "name": "python",
   "nbconvert_exporter": "python",
   "pygments_lexer": "ipython3",
   "version": "3.6.3"
  }
 },
 "nbformat": 4,
 "nbformat_minor": 2
}
